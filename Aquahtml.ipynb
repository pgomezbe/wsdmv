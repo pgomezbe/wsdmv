{
 "cells": [
  {
   "cell_type": "code",
   "execution_count": 16,
   "id": "bade69a9-70ac-405a-8efc-ed2de1fc53bc",
   "metadata": {},
   "outputs": [],
   "source": [
    "from graphviz import Digraph\n",
    "import os\n",
    "os.environ[\"PATH\"] += os.pathsep + 'C:/Users/pgomezbe/OneDrive - Otto Group/Escritorio/wsdmv/.venvs/windows_10_cmake_Release_Graphviz-11.0.0-win64/Graphviz-11.0.0-win64/bin/'"
   ]
  },
  {
   "cell_type": "code",
   "execution_count": 17,
   "id": "05ca876b",
   "metadata": {},
   "outputs": [
    {
     "data": {
      "text/plain": [
       "'TRYING.gv.pdf'"
      ]
     },
     "execution_count": 17,
     "metadata": {},
     "output_type": "execute_result"
    }
   ],
   "source": [
    "dot = Digraph('tryhtml')\n",
    "dot.attr(rankdir='LR', splines='ortho')\n",
    "dot.attr(labelloc='t')\n",
    "dot.attr(label=r'\\nData Model of AQUA Business Unit by Data Team')\n",
    "dot.attr(fontsize  = '12')\n",
    "dot.attr(fontcolor = 'blue')\n",
    "\n",
    "def make_node(metadata):\n",
    "    for table, info in metadata.items():\n",
    "        label = f'''<<TABLE BORDER=\"1\" CELLBORDER=\"1\" CELLSPACING=\"0\" CELLPADDING=\"4\">\n",
    "                    <TR><TD COLSPAN=\"2\"><FONT POINT-SIZE=\"10\"><B>{table}</B></FONT></TD></TR>\n",
    "                    <TR><TD COLSPAN=\"2\"><FONT POINT-SIZE=\"10\">{info['cohere']}</FONT></TD></TR>\n",
    "                </TABLE>>'''\n",
    "        dot.node(table, label=label, shape='plaintext')\n",
    "    return dot.node\n",
    "\n",
    "def make_relationship():\n",
    "    for from_table, to_table, key in relationship:\n",
    "        dot.edge(from_table, to_table, headlabel=key, fontsize='10', fontcolor='green')\n",
    "\n",
    "dot.view()"
   ]
  },
  {
   "cell_type": "code",
   "execution_count": 18,
   "id": "2d075f81",
   "metadata": {},
   "outputs": [],
   "source": [
    "dot.render('Aqua_Data_Model_v2', format='pdf', view=True)"
   ]
  }
 ],
 "metadata": {
  "kernelspec": {
   "display_name": "Python 3 (ipykernel)",
   "language": "python",
   "name": "python3"
  },
  "language_info": {
   "codemirror_mode": {
    "name": "ipython",
    "version": 3
   },
   "file_extension": ".py",
   "mimetype": "text/x-python",
   "name": "python",
   "nbconvert_exporter": "python",
   "pygments_lexer": "ipython3",
   "version": "3.10.11"
  }
 },
 "nbformat": 4,
 "nbformat_minor": 5
}
