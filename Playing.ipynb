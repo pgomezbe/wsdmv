{
 "cells": [
  {
   "cell_type": "code",
   "execution_count": 9,
   "id": "bade69a9-70ac-405a-8efc-ed2de1fc53bc",
   "metadata": {},
   "outputs": [],
   "source": [
    "from graphviz import Digraph\n",
    "import os\n",
    "os.environ[\"PATH\"] += os.pathsep + 'C:/Users/pgomezbe/OneDrive - Otto Group/Escritorio/wsdmv/.venvs/windows_10_cmake_Release_Graphviz-11.0.0-win64/Graphviz-11.0.0-win64/bin/'"
   ]
  },
  {
   "cell_type": "code",
   "execution_count": 10,
   "id": "05ca876b",
   "metadata": {},
   "outputs": [],
   "source": [
    "dot = Digraph(\"AQUABUSINESSUNIT\")\n",
    "dot.node('A', 'Node A')\n",
    "dot.node('B', 'Node B')\n",
    "dot.edge('A', 'B', 'Edge 1')\n",
    "dot.edge('B', 'A', 'Edge 2')"
   ]
  },
  {
   "cell_type": "code",
   "execution_count": 11,
   "id": "a648b250",
   "metadata": {},
   "outputs": [
    {
     "data": {
      "text/plain": [
       "'Aqua_Business_Unit.pdf'"
      ]
     },
     "execution_count": 11,
     "metadata": {},
     "output_type": "execute_result"
    }
   ],
   "source": [
    "dot.render('Aqua_Business_Unit', view=True)"
   ]
  }
 ],
 "metadata": {
  "kernelspec": {
   "display_name": "Python 3 (ipykernel)",
   "language": "python",
   "name": "python3"
  },
  "language_info": {
   "codemirror_mode": {
    "name": "ipython",
    "version": 3
   },
   "file_extension": ".py",
   "mimetype": "text/x-python",
   "name": "python",
   "nbconvert_exporter": "python",
   "pygments_lexer": "ipython3",
   "version": "3.10.11"
  }
 },
 "nbformat": 4,
 "nbformat_minor": 5
}
