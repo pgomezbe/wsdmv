{
 "cells": [
  {
   "cell_type": "code",
   "execution_count": 19,
   "id": "bade69a9-70ac-405a-8efc-ed2de1fc53bc",
   "metadata": {},
   "outputs": [],
   "source": [
    "from graphviz import Digraph, nohtml\n",
    "import os\n",
    "os.environ[\"PATH\"] += os.pathsep + 'C:/Users/pgomezbe/OneDrive - Otto Group/Escritorio/wsdmv/.venvs/windows_10_cmake_Release_Graphviz-11.0.0-win64/Graphviz-11.0.0-win64/bin/'"
   ]
  },
  {
   "cell_type": "code",
   "execution_count": 20,
   "id": "05ca876b",
   "metadata": {},
   "outputs": [
    {
     "data": {
      "text/plain": [
       "'cluster.gv.pdf'"
      ]
     },
     "execution_count": 20,
     "metadata": {},
     "output_type": "execute_result"
    }
   ],
   "source": [
    "dot = Digraph('clusterito')\n",
    "dot.attr(rankdir='LR', splines='ortho')\n",
    "dot.attr(labelloc='t')\n",
    "dot.attr(label=r'\\nData Model of AQUA Business Unit by Data Team')\n",
    "dot.attr(fontsize  = '12')\n",
    "dot.attr(fontcolor = '#40e0d0')\n",
    "\n",
    "\n",
    "\n",
    "dot.node('e')\n",
    "\n",
    "with dot.subgraph(name='clusterA') as a:\n",
    "    a.edge('a', 'b')\n",
    "    with a.subgraph(name='clusterC') as c:\n",
    "        c.edge('C', 'D')\n",
    "\n",
    "with dot.subgraph(name='clusterB') as b:\n",
    "    b.edge('d', 'f')\n",
    "\n",
    "dot.edge('d', 'D')\n",
    "dot.edge('e', 'clusterB')\n",
    "dot.edge('clusterC', 'clusterB')\n",
    "\n",
    "dot.view()"
   ]
  }
 ],
 "metadata": {
  "kernelspec": {
   "display_name": "Python 3 (ipykernel)",
   "language": "python",
   "name": "python3"
  },
  "language_info": {
   "codemirror_mode": {
    "name": "ipython",
    "version": 3
   },
   "file_extension": ".py",
   "mimetype": "text/x-python",
   "name": "python",
   "nbconvert_exporter": "python",
   "pygments_lexer": "ipython3",
   "version": "3.10.11"
  }
 },
 "nbformat": 4,
 "nbformat_minor": 5
}
