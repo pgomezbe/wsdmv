{
 "cells": [
  {
   "cell_type": "code",
   "execution_count": 1,
   "id": "bade69a9-70ac-405a-8efc-ed2de1fc53bc",
   "metadata": {},
   "outputs": [],
   "source": [
    "from graphviz import Digraph\n",
    "import os\n",
    "os.environ[\"PATH\"] += os.pathsep + 'C:/Users/pgomezbe/OneDrive - Otto Group/Escritorio/wsdmv/.venvs/windows_10_cmake_Release_Graphviz-11.0.0-win64/Graphviz-11.0.0-win64/bin/'"
   ]
  },
  {
   "cell_type": "code",
   "execution_count": 2,
   "id": "cdbe113f",
   "metadata": {},
   "outputs": [
    {
     "data": {
      "text/plain": [
       "'AQUABUSINESSUNIT1.gv.pdf'"
      ]
     },
     "execution_count": 2,
     "metadata": {},
     "output_type": "execute_result"
    }
   ],
   "source": [
    "dot = Digraph('AQUABUSINESSUNIT1')\n",
    "dot.attr(rankdir='LR', splines='ortho')\n",
    "dot.attr(labelloc='t')\n",
    "dot.attr(label=r'\\nData Model of AQUA Business Unit by Data Team')\n",
    "dot.attr(fontsize  = '12')\n",
    "dot.attr(fontcolor = 'blue')\n",
    "\n",
    "metadata = {\n",
    "    'cc_art': {\n",
    "        'cohere': ('art_id')\n",
    "    },\n",
    "    'cc_qmauspruefprot': {\n",
    "        'cohere':('id')\n",
    "    },\n",
    "    'cc_emailreportticket': {\n",
    "        'cohere': ('ticket_id')\n",
    "    },\n",
    "    'cc_aqualgwaeingpos': {\n",
    "        'cohere':('art_id')\n",
    "    },\n",
    "    'cc_aqualgwaeing': {\n",
    "        'cohere': ('waeingnr')\n",
    "    },\n",
    "    'cc_aquaqmwaeing': {\n",
    "        'cohere': ('qmwaeing_id')\n",
    "    },\n",
    "    'cc_aquaqmwaeingpos': {\n",
    "        'cohere': ('qmwaeingpos_id')\n",
    "    },\n",
    "    'cc_aquaqmklaerfall': {\n",
    "        'cohere': ('qmklaerfall_id')\n",
    "    },\n",
    "    'cc_aquaqmreklamation': {\n",
    "        'cohere': ('qmreklamation_id')\n",
    "    },\n",
    "    'cc_aqualgsendung': {\n",
    "        'cohere': ('sendungsnr')\n",
    "    },\n",
    "    'cc_aqualgsendungpos': {\n",
    "        'cohere': ('sendungsnr')\n",
    "    },\n",
    "    'cc_aquaqmmangel': {\n",
    "        'cohere': ('qmmangel_id')\n",
    "    },\n",
    "    'cc_aquaqmmasstab': {\n",
    "        'cohere': ('qmmasstab_id')\n",
    "    },\n",
    "    'cc_aquaqmnabfirma': {\n",
    "        'cohere': ('qmnabfirma_id')\n",
    "    },\n",
    "    'cc_aquaqmpruefer': {\n",
    "        'cohere': ('qmpruefer_id')\n",
    "    },\n",
    "    'cc_aquaqmqzahl': {\n",
    "        'cohere': ('qmqzahl_id')\n",
    "    },\n",
    "    'cc_aquaqmtextbaustein': {\n",
    "        'cohere': ('id')\n",
    "    },\n",
    "    'cc_aquaqmweprio': {\n",
    "        'cohere': ('qmweprio_id')\n",
    "    }\n",
    "}\n",
    "\n",
    "for table, info in metadata.items():\n",
    "    label = f'''<<TABLE BORDER=\"1\" CELLBORDER=\"1\" CELLSPACING=\"0\" CELLPADDING=\"4\">\n",
    "                    <TR><TD COLSPAN=\"2\"><FONT POINT-SIZE=\"10\"><B>{table}</B></FONT></TD></TR>\n",
    "                    <TR><TD COLSPAN=\"2\"><FONT POINT-SIZE=\"10\">{info['cohere']}</FONT></TD></TR>\n",
    "                </TABLE>>'''\n",
    "    dot.node(table, label=label, shape='plaintext')\n",
    "\n",
    "\n",
    "relationship = [\n",
    "    ('cc_art', 'cc_aqualgwaeingpos', ''),\n",
    "    ('cc_art', 'cc_aqualgwaeing', ''),\n",
    "    ('cc_art', 'cc_aquaqmwaeing', ''),\n",
    "    ('cc_art', 'cc_aqualgsendungpos', ''),\n",
    "    ('cc_art', 'cc_aqualgsendung', ''),\n",
    "    ('cc_aquaqmwaeing', 'cc_aquaqmklaerfall', ''),\n",
    "    ('cc_emailreportticket', 'cc_aquaqmklaerfall', 'dwh_id'),\n",
    "    ('cc_aquaqmwaeing','cc_aquaqmwaeingpos', ''),\n",
    "    ('cc_emailreportticket', 'cc_aquaqmreklamation', 'dwh_id'),\n",
    "    ('cc_emailreportticket', 'cc_aqualgsendung', 'dwh_id'),\n",
    "    ('cc_art', 'cc_aquaqmweprio', 'artnr'),\n",
    "    ('cc_emailreportticket', 'cc_aqualgsendungpos', 'dwh_id'),\n",
    "    ('cc_qmauspruefprot', 'cc_aquaqmmangel', 'dwh_id'),\n",
    "    ('cc_emailreportticket', 'cc_aquaqmmasstab', 'dwh_id'),\n",
    "    ('cc_aquaqmklaerfall', 'cc_aquaqmmangel', ''),\n",
    "    ('cc_emailreportticket', 'cc_aquaqmpruefer', 'dwh_id'),\n",
    "    ('cc_qmauspruefprot', 'cc_aquaqmnabfirma', 'dwh_id'),\n",
    "    ('cc_emailreportticket', 'cc_aquaqmqzahl', 'dwh_id'),\n",
    "    ('cc_aquaqmwaeingpos', 'cc_aquaqmmasstab', ''),\n",
    "    ('cc_emailreportticket', 'cc_aquaqmtextbaustein', 'dwh_id')\n",
    "]\n",
    "\n",
    "for from_table, to_table, key in relationship:\n",
    "    dot.edge(from_table, to_table, headlabel=key, fontsize='10', fontcolor='green')\n",
    "\n",
    "dot.view()"
   ]
  },
  {
   "cell_type": "code",
   "execution_count": 3,
   "id": "2112331e",
   "metadata": {},
   "outputs": [
    {
     "data": {
      "text/plain": [
       "'Aqua_Data_Model_v1.pdf'"
      ]
     },
     "execution_count": 3,
     "metadata": {},
     "output_type": "execute_result"
    }
   ],
   "source": [
    "dot.render('Aqua_Data_Model_v1', format='pdf', view=True)"
   ]
  }
 ],
 "metadata": {
  "kernelspec": {
   "display_name": "Python 3 (ipykernel)",
   "language": "python",
   "name": "python3"
  },
  "language_info": {
   "codemirror_mode": {
    "name": "ipython",
    "version": 3
   },
   "file_extension": ".py",
   "mimetype": "text/x-python",
   "name": "python",
   "nbconvert_exporter": "python",
   "pygments_lexer": "ipython3",
   "version": "3.10.11"
  }
 },
 "nbformat": 4,
 "nbformat_minor": 5
}
