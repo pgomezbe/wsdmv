{
 "cells": [
  {
   "cell_type": "code",
   "execution_count": 1,
   "id": "bade69a9-70ac-405a-8efc-ed2de1fc53bc",
   "metadata": {},
   "outputs": [],
   "source": [
    "from graphviz import Digraph, Graph\n",
    "import os\n",
    "os.environ[\"PATH\"] += os.pathsep + 'C:/Users/pgomezbe/OneDrive - Otto Group/Escritorio/wsdmv/.venvs/windows_10_cmake_Release_Graphviz-11.0.0-win64/Graphviz-11.0.0-win64/bin/'"
   ]
  },
  {
   "cell_type": "code",
   "execution_count": 2,
   "id": "05ca876b",
   "metadata": {},
   "outputs": [
    {
     "name": "stderr",
     "output_type": "stream",
     "text": [
      "Warning: Orthogonal edges do not currently handle edge labels. Try using xlabels.\n"
     ]
    },
    {
     "data": {
      "text/plain": [
       "'datenbank_diagramm.pdf'"
      ]
     },
     "execution_count": 2,
     "metadata": {},
     "output_type": "execute_result"
    }
   ],
   "source": [
    "dot = Digraph('Datenbankstruktur')\n",
    "dot.attr(rankdir='LR', splines='ortho')\n",
    "\n",
    "# Legende (angepasst, um sicherzustellen, dass keine ungewollte Umrandung erscheint)\n",
    "dot.node('Legende', '''<<TABLE BORDER=\"1\" CELLBORDER=\"1\" CELLSPACING=\"0\" CELLPADDING=\"4\">\n",
    "                        <TR><TD><FONT POINT-SIZE=\"10\">Legende</FONT></TD></TR>\n",
    "                        <TR><TD><FONT POINT-SIZE=\"10\"><B>P</B> - Primary Key</FONT></TD></TR>\n",
    "                        <TR><TD><FONT POINT-SIZE=\"10\"><I>F</I> - Foreign Key</FONT></TD></TR>\n",
    "                      </TABLE>>''', shape='plaintext')\n",
    "\n",
    "# Erweiterte Metadaten mit Primär- und Fremdschlüsseln\n",
    "metadaten = {\n",
    "    'Personen': {\n",
    "        'beschreibung': 'Speichert Informationen zu Personen.',\n",
    "        'spalten': [\n",
    "            ('id', 'INTEGER', True, False),\n",
    "            ('name', 'TEXT', False, False),\n",
    "            ('alter', 'INTEGER', False, False)\n",
    "        ]\n",
    "    },\n",
    "    'Kontakte': {\n",
    "        'beschreibung': 'Kontaktdaten der Personen.',\n",
    "        'spalten': [\n",
    "            ('id', 'INTEGER', True, False),\n",
    "            ('person_id', 'INTEGER', False, True),\n",
    "            ('email', 'TEXT', False, False)\n",
    "        ]\n",
    "    }\n",
    "}\n",
    "\n",
    "# Tabellenknoten ohne ungewollte Umrandung\n",
    "for tabelle, info in metadaten.items():\n",
    "    label = f'''<<TABLE BORDER=\"1\" CELLBORDER=\"1\" CELLSPACING=\"0\" CELLPADDING=\"4\">\n",
    "                    <TR><TD COLSPAN=\"2\"><U>{tabelle}</U></TD></TR>\n",
    "                    <TR><TD COLSPAN=\"2\">{info['beschreibung']}</TD></TR>\n",
    "                    ...  # Spalteninformationen wie zuvor definiert\n",
    "                </TABLE>>'''\n",
    "    dot.node(tabelle, label=label, shape='plaintext')\n",
    "\n",
    "# Beziehungen definieren\n",
    "beziehungen = [\n",
    "    ('Personen', 'Kontakte', 'person_id')\n",
    "]\n",
    "\n",
    "# Kanten zwischen den Tabellen hinzufügen\n",
    "for von_tabelle, zu_tabelle, schlüssel in beziehungen:\n",
    "    dot.edge(von_tabelle, zu_tabelle, label=schlüssel)\n",
    "\n",
    "# Diagramm als PDF speichern\n",
    "dot.render('datenbank_diagramm', format='pdf', view=True)\n"
   ]
  },
  {
   "cell_type": "code",
   "execution_count": 3,
   "id": "a648b250",
   "metadata": {},
   "outputs": [],
   "source": [
    "#dot.render('Aqua_Data_Model_v2', view=True)"
   ]
  }
 ],
 "metadata": {
  "kernelspec": {
   "display_name": "Python 3 (ipykernel)",
   "language": "python",
   "name": "python3"
  },
  "language_info": {
   "codemirror_mode": {
    "name": "ipython",
    "version": 3
   },
   "file_extension": ".py",
   "mimetype": "text/x-python",
   "name": "python",
   "nbconvert_exporter": "python",
   "pygments_lexer": "ipython3",
   "version": "3.10.11"
  }
 },
 "nbformat": 4,
 "nbformat_minor": 5
}
