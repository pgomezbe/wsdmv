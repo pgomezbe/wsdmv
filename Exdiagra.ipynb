{
 "cells": [
  {
   "cell_type": "code",
   "execution_count": 11,
   "id": "bade69a9-70ac-405a-8efc-ed2de1fc53bc",
   "metadata": {},
   "outputs": [],
   "source": [
    "from graphviz import Digraph, nohtml\n",
    "import os\n",
    "os.environ[\"PATH\"] += os.pathsep + 'C:/Users/pgomezbe/OneDrive - Otto Group/Escritorio/wsdmv/.venvs/windows_10_cmake_Release_Graphviz-11.0.0-win64/Graphviz-11.0.0-win64/bin/'"
   ]
  },
  {
   "cell_type": "code",
   "execution_count": 12,
   "id": "05ca876b",
   "metadata": {},
   "outputs": [
    {
     "data": {
      "text/plain": [
       "'btree.gv.pdf'"
      ]
     },
     "execution_count": 12,
     "metadata": {},
     "output_type": "execute_result"
    }
   ],
   "source": [
    "g = Digraph('G', filename='cluster.gv')\n",
    "\n",
    "# NOTE: the subgraph name needs to begin with 'cluster' (all lowercase)\n",
    "#       so that Graphviz recognizes it as a special cluster subgraph\n",
    "\n",
    "with g.subgraph(name='cluster_0') as c:\n",
    "    c.attr(style='filled', color='lightgrey')\n",
    "    c.node_attr.update(style='filled', color='white')\n",
    "    c.edges([('a0', 'a1'), ('a1', 'a2'), ('a2', 'a3')])\n",
    "    c.attr(label='process #1')\n",
    "\n",
    "with g.subgraph(name='cluster_1') as c:\n",
    "    c.attr(color='blue')\n",
    "    c.node_attr['style'] = 'filled'\n",
    "    c.edges([('b0', 'b1'), ('b1', 'b2'), ('b2', 'b3')])\n",
    "    c.attr(label='process #2')\n",
    "\n",
    "g.edge('start', 'a0')\n",
    "g.edge('start', 'b0')\n",
    "g.edge('a1', 'b3')\n",
    "g.edge('b2', 'a3')\n",
    "g.edge('a3', 'a0')\n",
    "g.edge('a3', 'end')\n",
    "g.edge('b3', 'end')\n",
    "\n",
    "g.node('start', shape='Mdiamond')\n",
    "g.node('end', shape='Msquare')\n",
    "\n",
    "g.view()"
   ]
  }
 ],
 "metadata": {
  "kernelspec": {
   "display_name": "Python 3 (ipykernel)",
   "language": "python",
   "name": "python3"
  },
  "language_info": {
   "codemirror_mode": {
    "name": "ipython",
    "version": 3
   },
   "file_extension": ".py",
   "mimetype": "text/x-python",
   "name": "python",
   "nbconvert_exporter": "python",
   "pygments_lexer": "ipython3",
   "version": "3.10.11"
  }
 },
 "nbformat": 4,
 "nbformat_minor": 5
}
